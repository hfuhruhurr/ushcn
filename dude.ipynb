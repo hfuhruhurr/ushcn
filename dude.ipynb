{
 "cells": [
  {
   "cell_type": "code",
   "execution_count": 3,
   "id": "569ccb4e",
   "metadata": {},
   "outputs": [
    {
     "data": {
      "text/plain": [
       "polars.config.Config"
      ]
     },
     "execution_count": 3,
     "metadata": {},
     "output_type": "execute_result"
    }
   ],
   "source": [
    "import polars as pl\n",
    "pl.Config.set_tbl_rows(6)"
   ]
  },
  {
   "cell_type": "code",
   "execution_count": 4,
   "id": "60e9f94e",
   "metadata": {},
   "outputs": [
    {
     "data": {
      "text/html": [
       "<div><style>\n",
       ".dataframe > thead > tr,\n",
       ".dataframe > tbody > tr {\n",
       "  text-align: right;\n",
       "  white-space: pre-wrap;\n",
       "}\n",
       "</style>\n",
       "<small>shape: (1_218, 12)</small><table border=\"1\" class=\"dataframe\"><thead><tr><th>country_code</th><th>network_code</th><th>coop_id</th><th>latitude</th><th>longitude</th><th>elevation</th><th>state</th><th>name</th><th>component_1</th><th>component_2</th><th>component_3</th><th>utc_offset</th></tr><tr><td>str</td><td>str</td><td>str</td><td>f64</td><td>f64</td><td>f64</td><td>str</td><td>str</td><td>str</td><td>str</td><td>str</td><td>i32</td></tr></thead><tbody><tr><td>&quot;US&quot;</td><td>&quot;H&quot;</td><td>&quot;011084&quot;</td><td>31.0581</td><td>-87.0547</td><td>25.9</td><td>&quot;AL&quot;</td><td>&quot;BREWTON 3 SSE&quot;</td><td>null</td><td>null</td><td>null</td><td>6</td></tr><tr><td>&quot;US&quot;</td><td>&quot;H&quot;</td><td>&quot;012813&quot;</td><td>30.5467</td><td>-87.8808</td><td>7.0</td><td>&quot;AL&quot;</td><td>&quot;FAIRHOPE 2 NE&quot;</td><td>null</td><td>null</td><td>null</td><td>6</td></tr><tr><td>&quot;US&quot;</td><td>&quot;H&quot;</td><td>&quot;013160&quot;</td><td>32.8347</td><td>-88.1342</td><td>38.1</td><td>&quot;AL&quot;</td><td>&quot;GAINESVILLE LOCK&quot;</td><td>&quot;011694&quot;</td><td>null</td><td>null</td><td>6</td></tr><tr><td>&hellip;</td><td>&hellip;</td><td>&hellip;</td><td>&hellip;</td><td>&hellip;</td><td>&hellip;</td><td>&hellip;</td><td>&hellip;</td><td>&hellip;</td><td>&hellip;</td><td>&hellip;</td><td>&hellip;</td></tr><tr><td>&quot;US&quot;</td><td>&quot;H&quot;</td><td>&quot;489615&quot;</td><td>42.1106</td><td>-104.9492</td><td>413.7</td><td>&quot;WY&quot;</td><td>&quot;WHEATLAND 4 N&quot;</td><td>null</td><td>null</td><td>null</td><td>7</td></tr><tr><td>&quot;US&quot;</td><td>&quot;H&quot;</td><td>&quot;489770&quot;</td><td>44.0108</td><td>-107.9686</td><td>237.5</td><td>&quot;WY&quot;</td><td>&quot;WORLAND&quot;</td><td>null</td><td>null</td><td>null</td><td>7</td></tr><tr><td>&quot;US&quot;</td><td>&quot;H&quot;</td><td>&quot;489905&quot;</td><td>44.9767</td><td>-110.6964</td><td>898.9</td><td>&quot;WY&quot;</td><td>&quot;YELLOWSTONE PK MAMMOTH&quot;</td><td>null</td><td>null</td><td>null</td><td>7</td></tr></tbody></table></div>"
      ],
      "text/plain": [
       "shape: (1_218, 12)\n",
       "┌────────────┬────────────┬─────────┬──────────┬───┬───────────┬───────────┬───────────┬───────────┐\n",
       "│ country_co ┆ network_co ┆ coop_id ┆ latitude ┆ … ┆ component ┆ component ┆ component ┆ utc_offse │\n",
       "│ de         ┆ de         ┆ ---     ┆ ---      ┆   ┆ _1        ┆ _2        ┆ _3        ┆ t         │\n",
       "│ ---        ┆ ---        ┆ str     ┆ f64      ┆   ┆ ---       ┆ ---       ┆ ---       ┆ ---       │\n",
       "│ str        ┆ str        ┆         ┆          ┆   ┆ str       ┆ str       ┆ str       ┆ i32       │\n",
       "╞════════════╪════════════╪═════════╪══════════╪═══╪═══════════╪═══════════╪═══════════╪═══════════╡\n",
       "│ US         ┆ H          ┆ 011084  ┆ 31.0581  ┆ … ┆ null      ┆ null      ┆ null      ┆ 6         │\n",
       "│ US         ┆ H          ┆ 012813  ┆ 30.5467  ┆ … ┆ null      ┆ null      ┆ null      ┆ 6         │\n",
       "│ US         ┆ H          ┆ 013160  ┆ 32.8347  ┆ … ┆ 011694    ┆ null      ┆ null      ┆ 6         │\n",
       "│ …          ┆ …          ┆ …       ┆ …        ┆ … ┆ …         ┆ …         ┆ …         ┆ …         │\n",
       "│ US         ┆ H          ┆ 489615  ┆ 42.1106  ┆ … ┆ null      ┆ null      ┆ null      ┆ 7         │\n",
       "│ US         ┆ H          ┆ 489770  ┆ 44.0108  ┆ … ┆ null      ┆ null      ┆ null      ┆ 7         │\n",
       "│ US         ┆ H          ┆ 489905  ┆ 44.9767  ┆ … ┆ null      ┆ null      ┆ null      ┆ 7         │\n",
       "└────────────┴────────────┴─────────┴──────────┴───┴───────────┴───────────┴───────────┴───────────┘"
      ]
     },
     "execution_count": 4,
     "metadata": {},
     "output_type": "execute_result"
    }
   ],
   "source": [
    "pl.read_parquet('ushcn_stations.parquet')"
   ]
  },
  {
   "cell_type": "code",
   "execution_count": 22,
   "id": "f9958b63",
   "metadata": {},
   "outputs": [
    {
     "data": {
      "text/html": [
       "<div><style>\n",
       ".dataframe > thead > tr,\n",
       ".dataframe > tbody > tr {\n",
       "  text-align: right;\n",
       "  white-space: pre-wrap;\n",
       "}\n",
       "</style>\n",
       "<small>shape: (5_509_920, 9)</small><table border=\"1\" class=\"dataframe\"><thead><tr><th>coop_id</th><th>year</th><th>month</th><th>element</th><th>dataset_type</th><th>value</th><th>dmflag</th><th>qcflag</th><th>dsflag</th></tr><tr><td>str</td><td>u16</td><td>u8</td><td>str</td><td>str</td><td>f64</td><td>str</td><td>str</td><td>str</td></tr></thead><tbody><tr><td>&quot;231037&quot;</td><td>1893</td><td>1</td><td>&quot;tmax&quot;</td><td>&quot;raw&quot;</td><td>-0.24</td><td>null</td><td>null</td><td>null</td></tr><tr><td>&quot;231037&quot;</td><td>1893</td><td>2</td><td>&quot;tmax&quot;</td><td>&quot;raw&quot;</td><td>3.15</td><td>null</td><td>null</td><td>null</td></tr><tr><td>&quot;231037&quot;</td><td>1893</td><td>3</td><td>&quot;tmax&quot;</td><td>&quot;raw&quot;</td><td>11.96</td><td>&quot;b&quot;</td><td>null</td><td>null</td></tr><tr><td>&hellip;</td><td>&hellip;</td><td>&hellip;</td><td>&hellip;</td><td>&hellip;</td><td>&hellip;</td><td>&hellip;</td><td>&hellip;</td><td>&hellip;</td></tr><tr><td>&quot;189440&quot;</td><td>2025</td><td>10</td><td>&quot;tmax&quot;</td><td>&quot;FLs.52j&quot;</td><td>null</td><td>null</td><td>null</td><td>null</td></tr><tr><td>&quot;189440&quot;</td><td>2025</td><td>11</td><td>&quot;tmax&quot;</td><td>&quot;FLs.52j&quot;</td><td>null</td><td>null</td><td>null</td><td>null</td></tr><tr><td>&quot;189440&quot;</td><td>2025</td><td>12</td><td>&quot;tmax&quot;</td><td>&quot;FLs.52j&quot;</td><td>null</td><td>null</td><td>null</td><td>null</td></tr></tbody></table></div>"
      ],
      "text/plain": [
       "shape: (5_509_920, 9)\n",
       "┌─────────┬──────┬───────┬─────────┬───┬───────┬────────┬────────┬────────┐\n",
       "│ coop_id ┆ year ┆ month ┆ element ┆ … ┆ value ┆ dmflag ┆ qcflag ┆ dsflag │\n",
       "│ ---     ┆ ---  ┆ ---   ┆ ---     ┆   ┆ ---   ┆ ---    ┆ ---    ┆ ---    │\n",
       "│ str     ┆ u16  ┆ u8    ┆ str     ┆   ┆ f64   ┆ str    ┆ str    ┆ str    │\n",
       "╞═════════╪══════╪═══════╪═════════╪═══╪═══════╪════════╪════════╪════════╡\n",
       "│ 231037  ┆ 1893 ┆ 1     ┆ tmax    ┆ … ┆ -0.24 ┆ null   ┆ null   ┆ null   │\n",
       "│ 231037  ┆ 1893 ┆ 2     ┆ tmax    ┆ … ┆ 3.15  ┆ null   ┆ null   ┆ null   │\n",
       "│ 231037  ┆ 1893 ┆ 3     ┆ tmax    ┆ … ┆ 11.96 ┆ b      ┆ null   ┆ null   │\n",
       "│ …       ┆ …    ┆ …     ┆ …       ┆ … ┆ …     ┆ …      ┆ …      ┆ …      │\n",
       "│ 189440  ┆ 2025 ┆ 10    ┆ tmax    ┆ … ┆ null  ┆ null   ┆ null   ┆ null   │\n",
       "│ 189440  ┆ 2025 ┆ 11    ┆ tmax    ┆ … ┆ null  ┆ null   ┆ null   ┆ null   │\n",
       "│ 189440  ┆ 2025 ┆ 12    ┆ tmax    ┆ … ┆ null  ┆ null   ┆ null   ┆ null   │\n",
       "└─────────┴──────┴───────┴─────────┴───┴───────┴────────┴────────┴────────┘"
      ]
     },
     "execution_count": 22,
     "metadata": {},
     "output_type": "execute_result"
    }
   ],
   "source": [
    "df = pl.read_parquet('ushcn_monthly_data.parquet')\n",
    "df"
   ]
  },
  {
   "cell_type": "code",
   "execution_count": 24,
   "id": "5787a0da",
   "metadata": {},
   "outputs": [
    {
     "data": {
      "text/html": [
       "<div><style>\n",
       ".dataframe > thead > tr,\n",
       ".dataframe > tbody > tr {\n",
       "  text-align: right;\n",
       "  white-space: pre-wrap;\n",
       "}\n",
       "</style>\n",
       "<small>shape: (1, 9)</small><table border=\"1\" class=\"dataframe\"><thead><tr><th>coop_id</th><th>year</th><th>month</th><th>element</th><th>dataset_type</th><th>value</th><th>dmflag</th><th>qcflag</th><th>dsflag</th></tr><tr><td>str</td><td>u16</td><td>u8</td><td>str</td><td>str</td><td>f64</td><td>str</td><td>str</td><td>str</td></tr></thead><tbody><tr><td>&quot;200032&quot;</td><td>2025</td><td>1</td><td>&quot;tmax&quot;</td><td>&quot;FLs.52j&quot;</td><td>-1.75</td><td>&quot;E&quot;</td><td>null</td><td>null</td></tr></tbody></table></div>"
      ],
      "text/plain": [
       "shape: (1, 9)\n",
       "┌─────────┬──────┬───────┬─────────┬───┬───────┬────────┬────────┬────────┐\n",
       "│ coop_id ┆ year ┆ month ┆ element ┆ … ┆ value ┆ dmflag ┆ qcflag ┆ dsflag │\n",
       "│ ---     ┆ ---  ┆ ---   ┆ ---     ┆   ┆ ---   ┆ ---    ┆ ---    ┆ ---    │\n",
       "│ str     ┆ u16  ┆ u8    ┆ str     ┆   ┆ f64   ┆ str    ┆ str    ┆ str    │\n",
       "╞═════════╪══════╪═══════╪═════════╪═══╪═══════╪════════╪════════╪════════╡\n",
       "│ 200032  ┆ 2025 ┆ 1     ┆ tmax    ┆ … ┆ -1.75 ┆ E      ┆ null   ┆ null   │\n",
       "└─────────┴──────┴───────┴─────────┴───┴───────┴────────┴────────┴────────┘"
      ]
     },
     "execution_count": 24,
     "metadata": {},
     "output_type": "execute_result"
    }
   ],
   "source": [
    "(\n",
    "    df\n",
    "    .filter(\n",
    "        pl.col('coop_id') == '200032',\n",
    "        pl.col('year') == 2025,\n",
    "        pl.col('month') == 1,\n",
    "    )\n",
    ")"
   ]
  },
  {
   "cell_type": "code",
   "execution_count": null,
   "id": "8ecb84eb",
   "metadata": {},
   "outputs": [],
   "source": []
  }
 ],
 "metadata": {
  "kernelspec": {
   "display_name": ".venv",
   "language": "python",
   "name": "python3"
  },
  "language_info": {
   "codemirror_mode": {
    "name": "ipython",
    "version": 3
   },
   "file_extension": ".py",
   "mimetype": "text/x-python",
   "name": "python",
   "nbconvert_exporter": "python",
   "pygments_lexer": "ipython3",
   "version": "3.12.7"
  }
 },
 "nbformat": 4,
 "nbformat_minor": 5
}
