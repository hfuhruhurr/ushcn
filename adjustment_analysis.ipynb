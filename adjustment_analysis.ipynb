{
 "cells": [
  {
   "cell_type": "code",
   "execution_count": 1,
   "metadata": {},
   "outputs": [
    {
     "data": {
      "text/plain": [
       "polars.config.Config"
      ]
     },
     "execution_count": 1,
     "metadata": {},
     "output_type": "execute_result"
    }
   ],
   "source": [
    "import polars as pl\n",
    "import matplotlib.pyplot as plt\n",
    "\n",
    "pl.Config.set_tbl_rows(6)"
   ]
  },
  {
   "cell_type": "code",
   "execution_count": 2,
   "metadata": {},
   "outputs": [
    {
     "data": {
      "text/html": [
       "<div><style>\n",
       ".dataframe > thead > tr,\n",
       ".dataframe > tbody > tr {\n",
       "  text-align: right;\n",
       "  white-space: pre-wrap;\n",
       "}\n",
       "</style>\n",
       "<small>shape: (5_509_920, 9)</small><table border=\"1\" class=\"dataframe\"><thead><tr><th>coop_id</th><th>year</th><th>month</th><th>element</th><th>dataset_type</th><th>value</th><th>dmflag</th><th>qcflag</th><th>dsflag</th></tr><tr><td>str</td><td>u16</td><td>u8</td><td>str</td><td>str</td><td>f64</td><td>str</td><td>str</td><td>str</td></tr></thead><tbody><tr><td>&quot;231037&quot;</td><td>1893</td><td>1</td><td>&quot;tmax&quot;</td><td>&quot;raw&quot;</td><td>-0.24</td><td>null</td><td>null</td><td>null</td></tr><tr><td>&quot;231037&quot;</td><td>1893</td><td>2</td><td>&quot;tmax&quot;</td><td>&quot;raw&quot;</td><td>3.15</td><td>null</td><td>null</td><td>null</td></tr><tr><td>&quot;231037&quot;</td><td>1893</td><td>3</td><td>&quot;tmax&quot;</td><td>&quot;raw&quot;</td><td>11.96</td><td>&quot;b&quot;</td><td>null</td><td>null</td></tr><tr><td>&hellip;</td><td>&hellip;</td><td>&hellip;</td><td>&hellip;</td><td>&hellip;</td><td>&hellip;</td><td>&hellip;</td><td>&hellip;</td><td>&hellip;</td></tr><tr><td>&quot;189440&quot;</td><td>2025</td><td>10</td><td>&quot;tmax&quot;</td><td>&quot;FLs.52j&quot;</td><td>null</td><td>null</td><td>null</td><td>null</td></tr><tr><td>&quot;189440&quot;</td><td>2025</td><td>11</td><td>&quot;tmax&quot;</td><td>&quot;FLs.52j&quot;</td><td>null</td><td>null</td><td>null</td><td>null</td></tr><tr><td>&quot;189440&quot;</td><td>2025</td><td>12</td><td>&quot;tmax&quot;</td><td>&quot;FLs.52j&quot;</td><td>null</td><td>null</td><td>null</td><td>null</td></tr></tbody></table></div>"
      ],
      "text/plain": [
       "shape: (5_509_920, 9)\n",
       "┌─────────┬──────┬───────┬─────────┬───┬───────┬────────┬────────┬────────┐\n",
       "│ coop_id ┆ year ┆ month ┆ element ┆ … ┆ value ┆ dmflag ┆ qcflag ┆ dsflag │\n",
       "│ ---     ┆ ---  ┆ ---   ┆ ---     ┆   ┆ ---   ┆ ---    ┆ ---    ┆ ---    │\n",
       "│ str     ┆ u16  ┆ u8    ┆ str     ┆   ┆ f64   ┆ str    ┆ str    ┆ str    │\n",
       "╞═════════╪══════╪═══════╪═════════╪═══╪═══════╪════════╪════════╪════════╡\n",
       "│ 231037  ┆ 1893 ┆ 1     ┆ tmax    ┆ … ┆ -0.24 ┆ null   ┆ null   ┆ null   │\n",
       "│ 231037  ┆ 1893 ┆ 2     ┆ tmax    ┆ … ┆ 3.15  ┆ null   ┆ null   ┆ null   │\n",
       "│ 231037  ┆ 1893 ┆ 3     ┆ tmax    ┆ … ┆ 11.96 ┆ b      ┆ null   ┆ null   │\n",
       "│ …       ┆ …    ┆ …     ┆ …       ┆ … ┆ …     ┆ …      ┆ …      ┆ …      │\n",
       "│ 189440  ┆ 2025 ┆ 10    ┆ tmax    ┆ … ┆ null  ┆ null   ┆ null   ┆ null   │\n",
       "│ 189440  ┆ 2025 ┆ 11    ┆ tmax    ┆ … ┆ null  ┆ null   ┆ null   ┆ null   │\n",
       "│ 189440  ┆ 2025 ┆ 12    ┆ tmax    ┆ … ┆ null  ┆ null   ┆ null   ┆ null   │\n",
       "└─────────┴──────┴───────┴─────────┴───┴───────┴────────┴────────┴────────┘"
      ]
     },
     "execution_count": 2,
     "metadata": {},
     "output_type": "execute_result"
    }
   ],
   "source": [
    "df = pl.read_parquet('ushcn_monthly_data.parquet')\n",
    "df"
   ]
  },
  {
   "cell_type": "code",
   "execution_count": 3,
   "metadata": {},
   "outputs": [],
   "source": [
    "def clean_source(df, dataset_type):\n",
    "    return (\n",
    "        df\n",
    "        .filter(\n",
    "            pl.col('element') == 'tmax',\n",
    "            pl.col('dataset_type') == dataset_type,\n",
    "        )\n",
    "        .with_columns(\n",
    "            pl.col('value').alias('temp_c'),\n",
    "            (pl.col('value') * 9/5 + 32).alias('temp_f')\n",
    "        )\n",
    "        .drop(['element', 'dataset_type', 'value'])\n",
    "    )"
   ]
  },
  {
   "cell_type": "code",
   "execution_count": 4,
   "metadata": {},
   "outputs": [],
   "source": [
    "raw = clean_source(df, 'raw')"
   ]
  },
  {
   "cell_type": "code",
   "execution_count": 5,
   "metadata": {},
   "outputs": [],
   "source": [
    "altered = clean_source(df, 'FLs.52j')"
   ]
  },
  {
   "cell_type": "code",
   "execution_count": 6,
   "metadata": {},
   "outputs": [
    {
     "data": {
      "text/html": [
       "<div><style>\n",
       ".dataframe > thead > tr,\n",
       ".dataframe > tbody > tr {\n",
       "  text-align: right;\n",
       "  white-space: pre-wrap;\n",
       "}\n",
       "</style>\n",
       "<small>shape: (1_865_060, 8)</small><table border=\"1\" class=\"dataframe\"><thead><tr><th>year</th><th>month</th><th>coop_id</th><th>temp_f</th><th>dmflag</th><th>temp_f_raw</th><th>dmflag_raw</th><th>adjustment</th></tr><tr><td>u16</td><td>u8</td><td>str</td><td>f64</td><td>str</td><td>f64</td><td>str</td><td>f64</td></tr></thead><tbody><tr><td>1898</td><td>3</td><td>&quot;344235&quot;</td><td>62.51</td><td>&quot;E&quot;</td><td>null</td><td>null</td><td>null</td></tr><tr><td>1898</td><td>3</td><td>&quot;344298&quot;</td><td>60.998</td><td>&quot;E&quot;</td><td>null</td><td>null</td><td>null</td></tr><tr><td>1898</td><td>3</td><td>&quot;344573&quot;</td><td>59.306</td><td>&quot;a&quot;</td><td>64.004</td><td>&quot;a&quot;</td><td>-4.698</td></tr><tr><td>&hellip;</td><td>&hellip;</td><td>&hellip;</td><td>&hellip;</td><td>&hellip;</td><td>&hellip;</td><td>&hellip;</td><td>&hellip;</td></tr><tr><td>2025</td><td>12</td><td>&quot;489615&quot;</td><td>null</td><td>null</td><td>null</td><td>null</td><td>null</td></tr><tr><td>2025</td><td>12</td><td>&quot;489770&quot;</td><td>null</td><td>null</td><td>null</td><td>null</td><td>null</td></tr><tr><td>2025</td><td>12</td><td>&quot;489905&quot;</td><td>null</td><td>null</td><td>null</td><td>null</td><td>null</td></tr></tbody></table></div>"
      ],
      "text/plain": [
       "shape: (1_865_060, 8)\n",
       "┌──────┬───────┬─────────┬────────┬────────┬────────────┬────────────┬────────────┐\n",
       "│ year ┆ month ┆ coop_id ┆ temp_f ┆ dmflag ┆ temp_f_raw ┆ dmflag_raw ┆ adjustment │\n",
       "│ ---  ┆ ---   ┆ ---     ┆ ---    ┆ ---    ┆ ---        ┆ ---        ┆ ---        │\n",
       "│ u16  ┆ u8    ┆ str     ┆ f64    ┆ str    ┆ f64        ┆ str        ┆ f64        │\n",
       "╞══════╪═══════╪═════════╪════════╪════════╪════════════╪════════════╪════════════╡\n",
       "│ 1898 ┆ 3     ┆ 344235  ┆ 62.51  ┆ E      ┆ null       ┆ null       ┆ null       │\n",
       "│ 1898 ┆ 3     ┆ 344298  ┆ 60.998 ┆ E      ┆ null       ┆ null       ┆ null       │\n",
       "│ 1898 ┆ 3     ┆ 344573  ┆ 59.306 ┆ a      ┆ 64.004     ┆ a          ┆ -4.698     │\n",
       "│ …    ┆ …     ┆ …       ┆ …      ┆ …      ┆ …          ┆ …          ┆ …          │\n",
       "│ 2025 ┆ 12    ┆ 489615  ┆ null   ┆ null   ┆ null       ┆ null       ┆ null       │\n",
       "│ 2025 ┆ 12    ┆ 489770  ┆ null   ┆ null   ┆ null       ┆ null       ┆ null       │\n",
       "│ 2025 ┆ 12    ┆ 489905  ┆ null   ┆ null   ┆ null       ┆ null       ┆ null       │\n",
       "└──────┴───────┴─────────┴────────┴────────┴────────────┴────────────┴────────────┘"
      ]
     },
     "execution_count": 6,
     "metadata": {},
     "output_type": "execute_result"
    }
   ],
   "source": [
    "combined = (\n",
    "    altered\n",
    "    .join(\n",
    "        raw,\n",
    "        on=['coop_id', 'year', 'month'],\n",
    "        how='left',\n",
    "        suffix='_raw'\n",
    "    )\n",
    "    .sort(['year', 'month', 'coop_id'])\n",
    "    .select(['year', 'month', 'coop_id', 'temp_f', 'dmflag', 'temp_f_raw', 'dmflag_raw'])\n",
    "    .with_columns(\n",
    "        (pl.col('temp_f') - pl.col('temp_f_raw')).alias('adjustment')\n",
    "    )\n",
    ")\n",
    "combined[100000:]"
   ]
  },
  {
   "cell_type": "code",
   "execution_count": 7,
   "metadata": {},
   "outputs": [
    {
     "data": {
      "text/html": [
       "<div><style>\n",
       ".dataframe > thead > tr,\n",
       ".dataframe > tbody > tr {\n",
       "  text-align: right;\n",
       "  white-space: pre-wrap;\n",
       "}\n",
       "</style>\n",
       "<small>shape: (1, 8)</small><table border=\"1\" class=\"dataframe\"><thead><tr><th>year</th><th>month</th><th>coop_id</th><th>temp_f</th><th>dmflag</th><th>temp_f_raw</th><th>dmflag_raw</th><th>adjustment</th></tr><tr><td>u16</td><td>u8</td><td>str</td><td>f64</td><td>str</td><td>f64</td><td>str</td><td>f64</td></tr></thead><tbody><tr><td>1868</td><td>7</td><td>&quot;144559&quot;</td><td>null</td><td>null</td><td>null</td><td>null</td><td>null</td></tr></tbody></table></div>"
      ],
      "text/plain": [
       "shape: (1, 8)\n",
       "┌──────┬───────┬─────────┬────────┬────────┬────────────┬────────────┬────────────┐\n",
       "│ year ┆ month ┆ coop_id ┆ temp_f ┆ dmflag ┆ temp_f_raw ┆ dmflag_raw ┆ adjustment │\n",
       "│ ---  ┆ ---   ┆ ---     ┆ ---    ┆ ---    ┆ ---        ┆ ---        ┆ ---        │\n",
       "│ u16  ┆ u8    ┆ str     ┆ f64    ┆ str    ┆ f64        ┆ str        ┆ f64        │\n",
       "╞══════╪═══════╪═════════╪════════╪════════╪════════════╪════════════╪════════════╡\n",
       "│ 1868 ┆ 7     ┆ 144559  ┆ null   ┆ null   ┆ null       ┆ null       ┆ null       │\n",
       "└──────┴───────┴─────────┴────────┴────────┴────────────┴────────────┴────────────┘"
      ]
     },
     "execution_count": 7,
     "metadata": {},
     "output_type": "execute_result"
    }
   ],
   "source": [
    "(\n",
    "    combined\n",
    "    .filter(\n",
    "        pl.col('month') == 7,\n",
    "        pl.col('year') == 1868\n",
    "    )\n",
    ")"
   ]
  },
  {
   "cell_type": "code",
   "execution_count": null,
   "metadata": {},
   "outputs": [],
   "source": [
    "adjustments = (\n",
    "    altered\n",
    "    .join(\n",
    "        raw,\n",
    "        on=['coop_id', 'year', 'month'],\n",
    "        how='left',\n",
    "        suffix='_raw'\n",
    "    )\n",
    "    .filter(\n",
    "        pl.col('temp_c').is_not_null(),\n",
    "        pl.col('temp_c_raw').is_not_null(),\n",
    "    )\n",
    "    .sort(['year', 'month', 'coop_id'])\n",
    "    .select(['year', 'month', 'coop_id', 'temp_f', 'dmflag', 'temp_f_raw', 'dmflag_raw'])\n",
    "    .with_columns(\n",
    "        (pl.col('temp_f') - pl.col('temp_f_raw')).alias('adjustment')\n",
    "    )\n",
    ")"
   ]
  },
  {
   "cell_type": "code",
   "execution_count": 22,
   "metadata": {},
   "outputs": [
    {
     "data": {
      "text/html": [
       "<div><style>\n",
       ".dataframe > thead > tr,\n",
       ".dataframe > tbody > tr {\n",
       "  text-align: right;\n",
       "  white-space: pre-wrap;\n",
       "}\n",
       "</style>\n",
       "<small>shape: (158, 4)</small><table border=\"1\" class=\"dataframe\"><thead><tr><th>year</th><th>n_obs</th><th>n_adjustments</th><th>n_estimates</th></tr><tr><td>u16</td><td>u32</td><td>u32</td><td>u32</td></tr></thead><tbody><tr><td>1868</td><td>0</td><td>0</td><td>0</td></tr><tr><td>1869</td><td>7</td><td>2</td><td>5</td></tr><tr><td>1870</td><td>6</td><td>1</td><td>5</td></tr><tr><td>&hellip;</td><td>&hellip;</td><td>&hellip;</td><td>&hellip;</td></tr><tr><td>2023</td><td>1218</td><td>658</td><td>504</td></tr><tr><td>2024</td><td>1216</td><td>661</td><td>541</td></tr><tr><td>2025</td><td>0</td><td>0</td><td>0</td></tr></tbody></table></div>"
      ],
      "text/plain": [
       "shape: (158, 4)\n",
       "┌──────┬───────┬───────────────┬─────────────┐\n",
       "│ year ┆ n_obs ┆ n_adjustments ┆ n_estimates │\n",
       "│ ---  ┆ ---   ┆ ---           ┆ ---         │\n",
       "│ u16  ┆ u32   ┆ u32           ┆ u32         │\n",
       "╞══════╪═══════╪═══════════════╪═════════════╡\n",
       "│ 1868 ┆ 0     ┆ 0             ┆ 0           │\n",
       "│ 1869 ┆ 7     ┆ 2             ┆ 5           │\n",
       "│ 1870 ┆ 6     ┆ 1             ┆ 5           │\n",
       "│ …    ┆ …     ┆ …             ┆ …           │\n",
       "│ 2023 ┆ 1218  ┆ 658           ┆ 504         │\n",
       "│ 2024 ┆ 1216  ┆ 661           ┆ 541         │\n",
       "│ 2025 ┆ 0     ┆ 0             ┆ 0           │\n",
       "└──────┴───────┴───────────────┴─────────────┘"
      ]
     },
     "execution_count": 22,
     "metadata": {},
     "output_type": "execute_result"
    }
   ],
   "source": [
    "stats = (\n",
    "    combined\n",
    "    .filter(\n",
    "        pl.col('month') == 7\n",
    "    )\n",
    "    .group_by('year')\n",
    "    .agg(\n",
    "        pl.col('temp_f').is_not_null().sum().alias('n_obs'),\n",
    "        pl.col('adjustment').filter(pl.col('adjustment') != 0).count().alias('n_adjustments'),\n",
    "        pl.col('temp_f').filter((pl.col('dmflag') == 'E') & (pl.col('temp_f').is_not_null())).count().alias('n_estimates')\n",
    "    #     pl.count('adjustment').alias('n_opportunities'),\n",
    "    #     pl.col('adjustment').filter(pl.col('adjustment') != 0).count().alias('n_adjustments'),\n",
    "    #     pl.mean('adjustment').alias('avg_adjustment'),\n",
    "    #     pl.col('temp_f').filter(pl.col('dmflag') == 'E').count().alias('n_estimates'),\n",
    "    #     pl.col('temp_f').filter(pl.col('dmflag') == 'E').mean().alias('avg_estimate'),\n",
    "    #     pl.col('temp_f').filter((pl.col('dmflag') != 'E') | pl.col('dmflag').is_null()).mean().alias('avg_not_estimate'),\n",
    "    )\n",
    "    # .with_columns(\n",
    "    #     (100 * pl.col('n_adjustments') / pl.col('n_opportunities')).alias('percent_adjusted')\n",
    "    # )\n",
    ")\n",
    "stats"
   ]
  },
  {
   "cell_type": "code",
   "execution_count": null,
   "metadata": {},
   "outputs": [],
   "source": [
    "adj_stats&['n_obs'].sum()"
   ]
  },
  {
   "cell_type": "code",
   "execution_count": null,
   "metadata": {},
   "outputs": [],
   "source": [
    "\n",
    "adj_stats['n_opportunities'].sum()"
   ]
  },
  {
   "cell_type": "code",
   "execution_count": null,
   "metadata": {},
   "outputs": [],
   "source": [
    "def make_chart(line_field):\n",
    "    # Create the figure\n",
    "    plt.figure(figsize=(9, 5))\n",
    "\n",
    "    line = plt.plot(adj_stats['year'], adj_stats[line_field], color='#6f0d02', linewidth=2, label=line_field)[0]\n",
    "    \n",
    "    # Set labels and title for the left y-axis\n",
    "    plt.xlabel('Year')\n",
    "    plt.ylabel('%', color='#6f0d02')\n",
    "    plt.tick_params(axis='y', labelcolor='#6f0d02')\n",
    "    plt.title('Dude')\n",
    "    plt.grid(True)\n",
    "\n",
    "    # Create a second y-axis for the bar plot\n",
    "    ax2 = plt.twinx()\n",
    "    # Plot bars for count_non_zero\n",
    "    bars = ax2.bar(adj_stats['year'], adj_stats['n_opportunities'], color='#1f77b4', alpha=0.5, label='# Opportunities', width=0.4)\n",
    "\n",
    "    # Set labels for the right y-axis\n",
    "    ax2.set_ylabel('Count', color='#1f77b4')\n",
    "    ax2.tick_params(axis='y', labelcolor='#1f77b4')\n",
    "\n",
    "    # Combine legends from both axes\n",
    "    plt.legend([line, bars], [line_field, '# Opportunities'], loc='upper left', bbox_to_anchor=(0.0, 0.85))\n",
    "\n",
    "    # Adjust layout\n",
    "    plt.tight_layout()\n",
    "\n",
    "    # Show plot\n",
    "    plt.show()"
   ]
  },
  {
   "cell_type": "code",
   "execution_count": null,
   "metadata": {},
   "outputs": [],
   "source": [
    "make_chart('percent_adjusted')"
   ]
  },
  {
   "cell_type": "code",
   "execution_count": null,
   "metadata": {},
   "outputs": [],
   "source": [
    "make_chart('avg_adjustment')"
   ]
  },
  {
   "cell_type": "code",
   "execution_count": null,
   "metadata": {},
   "outputs": [],
   "source": []
  }
 ],
 "metadata": {
  "kernelspec": {
   "display_name": ".venv",
   "language": "python",
   "name": "python3"
  },
  "language_info": {
   "codemirror_mode": {
    "name": "ipython",
    "version": 3
   },
   "file_extension": ".py",
   "mimetype": "text/x-python",
   "name": "python",
   "nbconvert_exporter": "python",
   "pygments_lexer": "ipython3",
   "version": "3.12.8"
  }
 },
 "nbformat": 4,
 "nbformat_minor": 2
}
